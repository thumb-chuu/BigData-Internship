{
  "nbformat": 4,
  "nbformat_minor": 0,
  "metadata": {
    "colab": {
      "name": "0704_3.ipynb",
      "provenance": [],
      "collapsed_sections": [],
      "authorship_tag": "ABX9TyM9wAf/qW/IoV3HCKwaGNTg",
      "include_colab_link": true
    },
    "kernelspec": {
      "name": "python3",
      "display_name": "Python 3"
    },
    "language_info": {
      "name": "python"
    }
  },
  "cells": [
    {
      "cell_type": "markdown",
      "metadata": {
        "id": "view-in-github",
        "colab_type": "text"
      },
      "source": [
        "<a href=\"https://colab.research.google.com/github/thumb-chuu/BigData-Internship/blob/main/0704_3.ipynb\" target=\"_parent\"><img src=\"https://colab.research.google.com/assets/colab-badge.svg\" alt=\"Open In Colab\"/></a>"
      ]
    },
    {
      "cell_type": "markdown",
      "source": [
        "# ◆ 이상값 탐색 및 처리 실습\n",
        "### 1. 필요 라이브러리 import"
      ],
      "metadata": {
        "id": "UvDphu-0qkTB"
      }
    },
    {
      "cell_type": "code",
      "execution_count": 4,
      "metadata": {
        "id": "horni39fn2S6"
      },
      "outputs": [],
      "source": [
        "import random                       # 의사 난수 생성 package\n",
        "import pandas as pd                 # pandas package\n",
        "import numpy as np                  # numpy package : np.nan 이용 결측값 생성\n",
        "import scipy.stats as stats\n",
        "import matplotlib.pyplot as plt     # matplotlib 시각화 패키지\n",
        "%matplotlib inline\n",
        "import seaborn as sns               # seaborn 시각화 패키지\n",
        "\n",
        "# os에 따른 Font 깨짐 제거를 위해 Font 지정\n",
        "import os\n",
        "if os.name == 'nt' :                # Windows OS\n",
        "    font_family = \"Malgun Gothic\"\n",
        "else:                               # MAC OS\n",
        "    font_family = \"AppleGothic\"\n",
        "\n",
        "# - 값이 깨지는 문제 해결을 위해 파라미터값 설정\n",
        "sns.set(font=font_family, rc = {\"axes.unicode_minus\" : False})"
      ]
    },
    {
      "cell_type": "markdown",
      "source": [
        "### 2. Z검정(Z-Test)을 이용한 이상값 처리\n",
        "### 1) 데이터 생성"
      ],
      "metadata": {
        "id": "7irhKpOdtwuW"
      }
    },
    {
      "cell_type": "code",
      "source": [
        "# 3000개의 랜덤 데이터 생성\n",
        "np_data = np.random.randint(1, 100, size = 3000)\n",
        "data = list(np_data)"
      ],
      "metadata": {
        "id": "Oe3RIYhMtG97"
      },
      "execution_count": 6,
      "outputs": []
    },
    {
      "cell_type": "code",
      "source": [
        "data[0:2]"
      ],
      "metadata": {
        "colab": {
          "base_uri": "https://localhost:8080/"
        },
        "id": "sttLBDfJyt3z",
        "outputId": "eb896aa8-0a92-430b-b1bc-2e41ada9ec35"
      },
      "execution_count": 7,
      "outputs": [
        {
          "output_type": "execute_result",
          "data": {
            "text/plain": [
              "[24, 40]"
            ]
          },
          "metadata": {},
          "execution_count": 7
        }
      ]
    },
    {
      "cell_type": "code",
      "source": [
        "# 히스토그램으로 생성된 데이터 분포 확인\n",
        "plt.hist(data)\n",
        "plt.show()"
      ],
      "metadata": {
        "colab": {
          "base_uri": "https://localhost:8080/",
          "height": 289
        },
        "id": "jPvNovofy06G",
        "outputId": "d730345e-cab1-454e-ff7e-6b5cbb503553"
      },
      "execution_count": 8,
      "outputs": [
        {
          "output_type": "stream",
          "name": "stderr",
          "text": [
            "findfont: Font family ['AppleGothic'] not found. Falling back to DejaVu Sans.\n"
          ]
        },
        {
          "output_type": "display_data",
          "data": {
            "text/plain": [
              "<Figure size 432x288 with 1 Axes>"
            ],
            "image/png": "[encoded data removed]"
          },
          "metadata": {}
        }
      ]
    },
    {
      "cell_type": "code",
      "source": [
        "# Data의 정규분포 확인\n",
        "data_mean = np.mean(data)\n",
        "data_std = np.std(data)\n",
        "\n",
        "print(data_mean)\n",
        "print(data_std)\n",
        "\n",
        "# 확률 밀도 함수 생성\n",
        "pdf = stats.norm.pdf(np.sort(data), data_mean, data_std)\n",
        "\n",
        "plt.figure()\n",
        "plt.plot(np.sort(data), pdf)"
      ],
      "metadata": {
        "colab": {
          "base_uri": "https://localhost:8080/",
          "height": 322
        },
        "id": "DjJN4mpsy6Ww",
        "outputId": "4eef0f8d-0957-4a30-979b-4ce60e0d9988"
      },
      "execution_count": 9,
      "outputs": [
        {
          "output_type": "stream",
          "name": "stdout",
          "text": [
            "49.85033333333333\n",
            "28.610509722050665\n"
          ]
        },
        {
          "output_type": "execute_result",
          "data": {
            "text/plain": [
              "[<matplotlib.lines.Line2D at 0x7ff3c254f250>]"
            ]
          },
          "metadata": {},
          "execution_count": 9
        },
        {
          "output_type": "display_data",
          "data": {
            "text/plain": [
              "<Figure size 432x288 with 1 Axes>"
            ],
            "image/png": "[encoded data removed]"
          },
          "metadata": {}
        }
      ]
    },
    {
      "cell_type": "code",
      "source": [
        "# 표준정규분포(Z분포)로 변환\n",
        "std_list = []\n",
        "\n",
        "for i in data:\n",
        "    z = (i - data_mean) / data_std\n",
        "    std_list.append(z)\n",
        "\n",
        "ol_data_mean = np.mean(std_list)\n",
        "ol_data_std = np.std(std_list)\n",
        "\n",
        "print(ol_data_mean)\n",
        "print(ol_data_std)\n",
        "\n",
        "ol_pdf = stats.norm.pdf(np.sort(std_list), ol_data_mean, ol_data_std)\n",
        "\n",
        "plt.figure()\n",
        "plt.plot(np.sort(std_list), ol_pdf)"
      ],
      "metadata": {
        "colab": {
          "base_uri": "https://localhost:8080/",
          "height": 322
        },
        "id": "RFZJrqljzU7X",
        "outputId": "560bd6e5-519b-49b1-b6fd-323fc88c521e"
      },
      "execution_count": 10,
      "outputs": [
        {
          "output_type": "stream",
          "name": "stdout",
          "text": [
            "5.684341886080802e-17\n",
            "0.9999999999999999\n"
          ]
        },
        {
          "output_type": "execute_result",
          "data": {
            "text/plain": [
              "[<matplotlib.lines.Line2D at 0x7ff3bfa5c950>]"
            ]
          },
          "metadata": {},
          "execution_count": 10
        },
        {
          "output_type": "display_data",
          "data": {
            "text/plain": [
              "<Figure size 432x288 with 1 Axes>"
            ],
            "image/png": "[encoded data removed]"
          },
          "metadata": {}
        }
      ]
    },
    {
      "cell_type": "markdown",
      "source": [
        "### 2) 데이터셋에 이상값 추가"
      ],
      "metadata": {
        "id": "ydtL_5m2z-ns"
      }
    },
    {
      "cell_type": "code",
      "source": [
        "# 이상값 추가\n",
        "\n",
        "ol_data = data.copy()\n",
        "ol_no = 10\n",
        "\n",
        "for i in range(ol_no):\n",
        "    rand_no = random.randint(0, len(data))\n",
        "    ol_data.insert(rand_no, ol_data[rand_no]*2)         # 이상값 생성\n",
        "\n",
        "# 이상값이 추가된 데이터의 정규분포도\n",
        "ol_data_mean = np.mean(ol_data)\n",
        "ol_data_std = np.std(ol_data)\n",
        "\n",
        "print(ol_data_mean)\n",
        "print(ol_data_std)\n",
        "\n",
        "ol_pdf = stats.norm.pdf(np.sort(ol_data), ol_data_mean, ol_data_std)\n",
        "\n",
        "plt.figure()\n",
        "plt.plot(np.sort(ol_data), ol_pdf)"
      ],
      "metadata": {
        "colab": {
          "base_uri": "https://localhost:8080/",
          "height": 322
        },
        "id": "9nLIoDFqz84o",
        "outputId": "cff5d13b-5b81-4db9-d74a-9eeef192efb9"
      },
      "execution_count": 20,
      "outputs": [
        {
          "output_type": "stream",
          "name": "stdout",
          "text": [
            "50.00830564784053\n",
            "28.886918905278463\n"
          ]
        },
        {
          "output_type": "execute_result",
          "data": {
            "text/plain": [
              "[<matplotlib.lines.Line2D at 0x7ff3bf846dd0>]"
            ]
          },
          "metadata": {},
          "execution_count": 20
        },
        {
          "output_type": "display_data",
          "data": {
            "text/plain": [
              "<Figure size 432x288 with 1 Axes>"
            ],
            "image/png": "[encoded data removed]"
          },
          "metadata": {}
        }
      ]
    },
    {
      "cell_type": "code",
      "source": [
        "# 이상값 추가된 데이터의 표준화\n",
        "\n",
        "ol_std_list = []\n",
        "\n",
        "for i in ol_data:\n",
        "    z = (i - ol_data_mean) / ol_data_std\n",
        "    ol_std_list.append(z)\n",
        "\n",
        "ol_st_data_mean = np.mean(ol_std_list)\n",
        "ol_st_data_std = np.std(ol_std_list)\n",
        "\n",
        "print(ol_st_data_mean)\n",
        "print(ol_st_data_std)\n",
        "\n",
        "ol_std_pdf = stats.norm.pdf(np.sort(ol_std_list), ol_st_data_mean, ol_st_data_std)\n",
        "\n",
        "plt.figure()\n",
        "plt.plot(np.sort(ol_std_list), ol_std_pdf)"
      ],
      "metadata": {
        "colab": {
          "base_uri": "https://localhost:8080/",
          "height": 322
        },
        "id": "0uK8SeHh0oA5",
        "outputId": "6f97be76-0630-4ef5-ed43-91820500fb0e"
      },
      "execution_count": 21,
      "outputs": [
        {
          "output_type": "stream",
          "name": "stdout",
          "text": [
            "7.317881996200368e-17\n",
            "1.0\n"
          ]
        },
        {
          "output_type": "execute_result",
          "data": {
            "text/plain": [
              "[<matplotlib.lines.Line2D at 0x7ff3bf7e7190>]"
            ]
          },
          "metadata": {},
          "execution_count": 21
        },
        {
          "output_type": "display_data",
          "data": {
            "text/plain": [
              "<Figure size 432x288 with 1 Axes>"
            ],
            "image/png": "[encoded data removed]"
          },
          "metadata": {}
        }
      ]
    },
    {
      "cell_type": "markdown",
      "source": [
        "### 3) Z값의 2가 넘어 가는 데이터 삭제"
      ],
      "metadata": {
        "id": "jBBuKhCR2Bwt"
      }
    },
    {
      "cell_type": "code",
      "source": [
        "# 전체 라인수 확인\n",
        "len(ol_std_list)"
      ],
      "metadata": {
        "colab": {
          "base_uri": "https://localhost:8080/"
        },
        "id": "TNbFtNXD10ie",
        "outputId": "046f0ed5-814e-4b25-e375-8d45c39e6267"
      },
      "execution_count": 22,
      "outputs": [
        {
          "output_type": "execute_result",
          "data": {
            "text/plain": [
              "3010"
            ]
          },
          "metadata": {},
          "execution_count": 22
        }
      ]
    },
    {
      "cell_type": "code",
      "source": [
        "# -2 ~ 2 범위 벗어나면 이상값으로 제거\n",
        "\n",
        "for i in ol_std_list:\n",
        "    z = i\n",
        "    if z > 2 :\n",
        "        ol_std_list.remove(z)\n",
        "    if z < -2 :\n",
        "        ol_std_list.remove(z)"
      ],
      "metadata": {
        "id": "uCl9bwTp2Ip2"
      },
      "execution_count": 23,
      "outputs": []
    },
    {
      "cell_type": "code",
      "source": [
        "# 이상값 제거 후 라인수\n",
        "len(ol_std_list)"
      ],
      "metadata": {
        "colab": {
          "base_uri": "https://localhost:8080/"
        },
        "id": "1Q1Y5I_-2W4e",
        "outputId": "ec0972ba-a4af-4c39-b6e1-8463e8373021"
      },
      "execution_count": 24,
      "outputs": [
        {
          "output_type": "execute_result",
          "data": {
            "text/plain": [
              "3006"
            ]
          },
          "metadata": {},
          "execution_count": 24
        }
      ]
    },
    {
      "cell_type": "code",
      "source": [
        "# 이상값 제거 후 표준정규분포 확인\n",
        "ol_std_pdf = stats.norm.pdf(np.sort(ol_std_list), ol_st_data_mean, ol_st_data_std)\n",
        "\n",
        "plt.figure()\n",
        "plt.plot(np.sort(ol_std_list), ol_std_pdf)"
      ],
      "metadata": {
        "colab": {
          "base_uri": "https://localhost:8080/",
          "height": 286
        },
        "id": "UEVIafmF2al-",
        "outputId": "18022783-2378-4afc-b349-0ff4594b7bd1"
      },
      "execution_count": 26,
      "outputs": [
        {
          "output_type": "execute_result",
          "data": {
            "text/plain": [
              "[<matplotlib.lines.Line2D at 0x7ff3bf7a9850>]"
            ]
          },
          "metadata": {},
          "execution_count": 26
        },
        {
          "output_type": "display_data",
          "data": {
            "text/plain": [
              "<Figure size 432x288 with 1 Axes>"
            ],
            "image/png": "[encoded data removed]"
          },
          "metadata": {}
        }
      ]
    },
    {
      "cell_type": "markdown",
      "source": [
        "### 3. 사분위수 범위로 이상값 삭제\n",
        "### 1) 이상값 데이터 생성"
      ],
      "metadata": {
        "id": "VfRhiG292wCE"
      }
    },
    {
      "cell_type": "code",
      "source": [
        "# 이상값 데이터 생성\n",
        "boxdata = pd.DataFrame(np.random.randn(100, 3), columns=[\"A열\", \"B열\", \"C열\"])"
      ],
      "metadata": {
        "id": "oci6vND82rF3"
      },
      "execution_count": 27,
      "outputs": []
    },
    {
      "cell_type": "code",
      "source": [
        "boxdata.head()"
      ],
      "metadata": {
        "colab": {
          "base_uri": "https://localhost:8080/",
          "height": 206
        },
        "id": "tspiQgJm2-Pv",
        "outputId": "e1327915-73b9-4acb-f591-18179a2ccf3d"
      },
      "execution_count": 28,
      "outputs": [
        {
          "output_type": "execute_result",
          "data": {
            "text/plain": [
              "         A열        B열        C열\n",
              "0  0.995826 -2.058311 -0.818165\n",
              "1  0.857573 -0.201370  0.384468\n",
              "2 -1.212802 -0.810722  0.866166\n",
              "3 -0.301807  0.276978  0.399533\n",
              "4 -1.323627 -0.264568 -1.103107"
            ],
            "text/html": [
              "\n",
              "  <div id=\"df-df42bc25-3298-4bb9-9b42-4cb6e8a19e8f\">\n",
              "    <div class=\"colab-df-container\">\n",
              "      <div>\n",
              "<style scoped>\n",
              "    .dataframe tbody tr th:only-of-type {\n",
              "        vertical-align: middle;\n",
              "    }\n",
              "\n",
              "    .dataframe tbody tr th {\n",
              "        vertical-align: top;\n",
              "    }\n",
              "\n",
              "    .dataframe thead th {\n",
              "        text-align: right;\n",
              "    }\n",
              "</style>\n",
              "<table border=\"1\" class=\"dataframe\">\n",
              "  <thead>\n",
              "    <tr style=\"text-align: right;\">\n",
              "      <th></th>\n",
              "      <th>A열</th>\n",
              "      <th>B열</th>\n",
              "      <th>C열</th>\n",
              "    </tr>\n",
              "  </thead>\n",
              "  <tbody>\n",
              "    <tr>\n",
              "      <th>0</th>\n",
              "      <td>0.995826</td>\n",
              "      <td>-2.058311</td>\n",
              "      <td>-0.818165</td>\n",
              "    </tr>\n",
              "    <tr>\n",
              "      <th>1</th>\n",
              "      <td>0.857573</td>\n",
              "      <td>-0.201370</td>\n",
              "      <td>0.384468</td>\n",
              "    </tr>\n",
              "    <tr>\n",
              "      <th>2</th>\n",
              "      <td>-1.212802</td>\n",
              "      <td>-0.810722</td>\n",
              "      <td>0.866166</td>\n",
              "    </tr>\n",
              "    <tr>\n",
              "      <th>3</th>\n",
              "      <td>-0.301807</td>\n",
              "      <td>0.276978</td>\n",
              "      <td>0.399533</td>\n",
              "    </tr>\n",
              "    <tr>\n",
              "      <th>4</th>\n",
              "      <td>-1.323627</td>\n",
              "      <td>-0.264568</td>\n",
              "      <td>-1.103107</td>\n",
              "    </tr>\n",
              "  </tbody>\n",
              "</table>\n",
              "</div>\n",
              "      <button class=\"colab-df-convert\" onclick=\"convertToInteractive('df-df42bc25-3298-4bb9-9b42-4cb6e8a19e8f')\"\n",
              "              title=\"Convert this dataframe to an interactive table.\"\n",
              "              style=\"display:none;\">\n",
              "        \n",
              "  <svg xmlns=\"http://www.w3.org/2000/svg\" height=\"24px\"viewBox=\"0 0 24 24\"\n",
              "       width=\"24px\">\n",
              "    <path d=\"M0 0h24v24H0V0z\" fill=\"none\"/>\n",
              "    <path d=\"M18.56 5.44l.94 2.06.94-2.06 2.06-.94-2.06-.94-.94-2.06-.94 2.06-2.06.94zm-11 1L8.5 8.5l.94-2.06 2.06-.94-2.06-.94L8.5 2.5l-.94 2.06-2.06.94zm10 10l.94 2.06.94-2.06 2.06-.94-2.06-.94-.94-2.06-.94 2.06-2.06.94z\"/><path d=\"M17.41 7.96l-1.37-1.37c-.4-.4-.92-.59-1.43-.59-.52 0-1.04.2-1.43.59L10.3 9.45l-7.72 7.72c-.78.78-.78 2.05 0 2.83L4 21.41c.39.39.9.59 1.41.59.51 0 1.02-.2 1.41-.59l7.78-7.78 2.81-2.81c.8-.78.8-2.07 0-2.86zM5.41 20L4 18.59l7.72-7.72 1.47 1.35L5.41 20z\"/>\n",
              "  </svg>\n",
              "      </button>\n",
              "      \n",
              "  <style>\n",
              "    .colab-df-container {\n",
              "      display:flex;\n",
              "      flex-wrap:wrap;\n",
              "      gap: 12px;\n",
              "    }\n",
              "\n",
              "    .colab-df-convert {\n",
              "      background-color: #E8F0FE;\n",
              "      border: none;\n",
              "      border-radius: 50%;\n",
              "      cursor: pointer;\n",
              "      display: none;\n",
              "      fill: #1967D2;\n",
              "      height: 32px;\n",
              "      padding: 0 0 0 0;\n",
              "      width: 32px;\n",
              "    }\n",
              "\n",
              "    .colab-df-convert:hover {\n",
              "      background-color: #E2EBFA;\n",
              "      box-shadow: 0px 1px 2px rgba(60, 64, 67, 0.3), 0px 1px 3px 1px rgba(60, 64, 67, 0.15);\n",
              "      fill: #174EA6;\n",
              "    }\n",
              "\n",
              "    [theme=dark] .colab-df-convert {\n",
              "      background-color: #3B4455;\n",
              "      fill: #D2E3FC;\n",
              "    }\n",
              "\n",
              "    [theme=dark] .colab-df-convert:hover {\n",
              "      background-color: #434B5C;\n",
              "      box-shadow: 0px 1px 3px 1px rgba(0, 0, 0, 0.15);\n",
              "      filter: drop-shadow(0px 1px 2px rgba(0, 0, 0, 0.3));\n",
              "      fill: #FFFFFF;\n",
              "    }\n",
              "  </style>\n",
              "\n",
              "      <script>\n",
              "        const buttonEl =\n",
              "          document.querySelector('#df-df42bc25-3298-4bb9-9b42-4cb6e8a19e8f button.colab-df-convert');\n",
              "        buttonEl.style.display =\n",
              "          google.colab.kernel.accessAllowed ? 'block' : 'none';\n",
              "\n",
              "        async function convertToInteractive(key) {\n",
              "          const element = document.querySelector('#df-df42bc25-3298-4bb9-9b42-4cb6e8a19e8f');\n",
              "          const dataTable =\n",
              "            await google.colab.kernel.invokeFunction('convertToInteractive',\n",
              "                                                     [key], {});\n",
              "          if (!dataTable) return;\n",
              "\n",
              "          const docLinkHtml = 'Like what you see? Visit the ' +\n",
              "            '<a target=\"_blank\" href=https://colab.research.google.com/notebooks/data_table.ipynb>data table notebook</a>'\n",
              "            + ' to learn more about interactive tables.';\n",
              "          element.innerHTML = '';\n",
              "          dataTable['output_type'] = 'display_data';\n",
              "          await google.colab.output.renderOutput(dataTable, element);\n",
              "          const docLink = document.createElement('div');\n",
              "          docLink.innerHTML = docLinkHtml;\n",
              "          element.appendChild(docLink);\n",
              "        }\n",
              "      </script>\n",
              "    </div>\n",
              "  </div>\n",
              "  "
            ]
          },
          "metadata": {},
          "execution_count": 28
        }
      ]
    },
    {
      "cell_type": "markdown",
      "source": [
        "### 2) 이상값 데이터 확인"
      ],
      "metadata": {
        "id": "x7a6fYVw3Boi"
      }
    },
    {
      "cell_type": "code",
      "source": [
        "# 기술 통계 정보로 pencentile 확인\n",
        "boxdata.describe()"
      ],
      "metadata": {
        "colab": {
          "base_uri": "https://localhost:8080/",
          "height": 300
        },
        "id": "Rwo-tTcX3Ag1",
        "outputId": "03dc50ae-e097-4229-e676-c87079cef711"
      },
      "execution_count": 29,
      "outputs": [
        {
          "output_type": "execute_result",
          "data": {
            "text/plain": [
              "               A열          B열          C열\n",
              "count  100.000000  100.000000  100.000000\n",
              "mean    -0.084890   -0.180949   -0.112204\n",
              "std      1.090376    0.966706    0.991497\n",
              "min     -2.223095   -2.265520   -2.020735\n",
              "25%     -0.834009   -0.772742   -0.842596\n",
              "50%     -0.213409   -0.239769   -0.047417\n",
              "75%      0.458611    0.413083    0.388234\n",
              "max      3.126909    2.106950    2.494668"
            ],
            "text/html": [
              "\n",
              "  <div id=\"df-3f53adaf-00e3-4219-9fca-72a17292fbf7\">\n",
              "    <div class=\"colab-df-container\">\n",
              "      <div>\n",
              "<style scoped>\n",
              "    .dataframe tbody tr th:only-of-type {\n",
              "        vertical-align: middle;\n",
              "    }\n",
              "\n",
              "    .dataframe tbody tr th {\n",
              "        vertical-align: top;\n",
              "    }\n",
              "\n",
              "    .dataframe thead th {\n",
              "        text-align: right;\n",
              "    }\n",
              "</style>\n",
              "<table border=\"1\" class=\"dataframe\">\n",
              "  <thead>\n",
              "    <tr style=\"text-align: right;\">\n",
              "      <th></th>\n",
              "      <th>A열</th>\n",
              "      <th>B열</th>\n",
              "      <th>C열</th>\n",
              "    </tr>\n",
              "  </thead>\n",
              "  <tbody>\n",
              "    <tr>\n",
              "      <th>count</th>\n",
              "      <td>100.000000</td>\n",
              "      <td>100.000000</td>\n",
              "      <td>100.000000</td>\n",
              "    </tr>\n",
              "    <tr>\n",
              "      <th>mean</th>\n",
              "      <td>-0.084890</td>\n",
              "      <td>-0.180949</td>\n",
              "      <td>-0.112204</td>\n",
              "    </tr>\n",
              "    <tr>\n",
              "      <th>std</th>\n",
              "      <td>1.090376</td>\n",
              "      <td>0.966706</td>\n",
              "      <td>0.991497</td>\n",
              "    </tr>\n",
              "    <tr>\n",
              "      <th>min</th>\n",
              "      <td>-2.223095</td>\n",
              "      <td>-2.265520</td>\n",
              "      <td>-2.020735</td>\n",
              "    </tr>\n",
              "    <tr>\n",
              "      <th>25%</th>\n",
              "      <td>-0.834009</td>\n",
              "      <td>-0.772742</td>\n",
              "      <td>-0.842596</td>\n",
              "    </tr>\n",
              "    <tr>\n",
              "      <th>50%</th>\n",
              "      <td>-0.213409</td>\n",
              "      <td>-0.239769</td>\n",
              "      <td>-0.047417</td>\n",
              "    </tr>\n",
              "    <tr>\n",
              "      <th>75%</th>\n",
              "      <td>0.458611</td>\n",
              "      <td>0.413083</td>\n",
              "      <td>0.388234</td>\n",
              "    </tr>\n",
              "    <tr>\n",
              "      <th>max</th>\n",
              "      <td>3.126909</td>\n",
              "      <td>2.106950</td>\n",
              "      <td>2.494668</td>\n",
              "    </tr>\n",
              "  </tbody>\n",
              "</table>\n",
              "</div>\n",
              "      <button class=\"colab-df-convert\" onclick=\"convertToInteractive('df-3f53adaf-00e3-4219-9fca-72a17292fbf7')\"\n",
              "              title=\"Convert this dataframe to an interactive table.\"\n",
              "              style=\"display:none;\">\n",
              "        \n",
              "  <svg xmlns=\"http://www.w3.org/2000/svg\" height=\"24px\"viewBox=\"0 0 24 24\"\n",
              "       width=\"24px\">\n",
              "    <path d=\"M0 0h24v24H0V0z\" fill=\"none\"/>\n",
              "    <path d=\"M18.56 5.44l.94 2.06.94-2.06 2.06-.94-2.06-.94-.94-2.06-.94 2.06-2.06.94zm-11 1L8.5 8.5l.94-2.06 2.06-.94-2.06-.94L8.5 2.5l-.94 2.06-2.06.94zm10 10l.94 2.06.94-2.06 2.06-.94-2.06-.94-.94-2.06-.94 2.06-2.06.94z\"/><path d=\"M17.41 7.96l-1.37-1.37c-.4-.4-.92-.59-1.43-.59-.52 0-1.04.2-1.43.59L10.3 9.45l-7.72 7.72c-.78.78-.78 2.05 0 2.83L4 21.41c.39.39.9.59 1.41.59.51 0 1.02-.2 1.41-.59l7.78-7.78 2.81-2.81c.8-.78.8-2.07 0-2.86zM5.41 20L4 18.59l7.72-7.72 1.47 1.35L5.41 20z\"/>\n",
              "  </svg>\n",
              "      </button>\n",
              "      \n",
              "  <style>\n",
              "    .colab-df-container {\n",
              "      display:flex;\n",
              "      flex-wrap:wrap;\n",
              "      gap: 12px;\n",
              "    }\n",
              "\n",
              "    .colab-df-convert {\n",
              "      background-color: #E8F0FE;\n",
              "      border: none;\n",
              "      border-radius: 50%;\n",
              "      cursor: pointer;\n",
              "      display: none;\n",
              "      fill: #1967D2;\n",
              "      height: 32px;\n",
              "      padding: 0 0 0 0;\n",
              "      width: 32px;\n",
              "    }\n",
              "\n",
              "    .colab-df-convert:hover {\n",
              "      background-color: #E2EBFA;\n",
              "      box-shadow: 0px 1px 2px rgba(60, 64, 67, 0.3), 0px 1px 3px 1px rgba(60, 64, 67, 0.15);\n",
              "      fill: #174EA6;\n",
              "    }\n",
              "\n",
              "    [theme=dark] .colab-df-convert {\n",
              "      background-color: #3B4455;\n",
              "      fill: #D2E3FC;\n",
              "    }\n",
              "\n",
              "    [theme=dark] .colab-df-convert:hover {\n",
              "      background-color: #434B5C;\n",
              "      box-shadow: 0px 1px 3px 1px rgba(0, 0, 0, 0.15);\n",
              "      filter: drop-shadow(0px 1px 2px rgba(0, 0, 0, 0.3));\n",
              "      fill: #FFFFFF;\n",
              "    }\n",
              "  </style>\n",
              "\n",
              "      <script>\n",
              "        const buttonEl =\n",
              "          document.querySelector('#df-3f53adaf-00e3-4219-9fca-72a17292fbf7 button.colab-df-convert');\n",
              "        buttonEl.style.display =\n",
              "          google.colab.kernel.accessAllowed ? 'block' : 'none';\n",
              "\n",
              "        async function convertToInteractive(key) {\n",
              "          const element = document.querySelector('#df-3f53adaf-00e3-4219-9fca-72a17292fbf7');\n",
              "          const dataTable =\n",
              "            await google.colab.kernel.invokeFunction('convertToInteractive',\n",
              "                                                     [key], {});\n",
              "          if (!dataTable) return;\n",
              "\n",
              "          const docLinkHtml = 'Like what you see? Visit the ' +\n",
              "            '<a target=\"_blank\" href=https://colab.research.google.com/notebooks/data_table.ipynb>data table notebook</a>'\n",
              "            + ' to learn more about interactive tables.';\n",
              "          element.innerHTML = '';\n",
              "          dataTable['output_type'] = 'display_data';\n",
              "          await google.colab.output.renderOutput(dataTable, element);\n",
              "          const docLink = document.createElement('div');\n",
              "          docLink.innerHTML = docLinkHtml;\n",
              "          element.appendChild(docLink);\n",
              "        }\n",
              "      </script>\n",
              "    </div>\n",
              "  </div>\n",
              "  "
            ]
          },
          "metadata": {},
          "execution_count": 29
        }
      ]
    },
    {
      "cell_type": "code",
      "source": [
        "# 박스 플롯을 이용한 이상값 확인\n",
        "sns.boxplot(data = boxdata)\n",
        "plt.show()"
      ],
      "metadata": {
        "colab": {
          "base_uri": "https://localhost:8080/",
          "height": 341
        },
        "id": "7uWVQnlz3JWT",
        "outputId": "2f450929-cad6-4aca-ebc8-8267995e2051"
      },
      "execution_count": 30,
      "outputs": [
        {
          "output_type": "stream",
          "name": "stderr",
          "text": [
            "/usr/local/lib/python3.7/dist-packages/matplotlib/backends/backend_agg.py:214: RuntimeWarning: Glyph 50676 missing from current font.\n",
            "  font.set_text(s, 0.0, flags=flags)\n",
            "/usr/local/lib/python3.7/dist-packages/matplotlib/backends/backend_agg.py:183: RuntimeWarning: Glyph 50676 missing from current font.\n",
            "  font.set_text(s, 0, flags=flags)\n"
          ]
        },
        {
          "output_type": "display_data",
          "data": {
            "text/plain": [
              "<Figure size 432x288 with 1 Axes>"
            ],
            "image/png": "[encoded data removed]"
          },
          "metadata": {}
        }
      ]
    },
    {
      "cell_type": "markdown",
      "source": [
        "### 2) 이상값 확인"
      ],
      "metadata": {
        "id": "vK09LUqi3UgT"
      }
    },
    {
      "cell_type": "code",
      "source": [
        "# 이상값 계산하는 함수\n",
        "def get_outlier(df=None, column=None, weight=1.5):\n",
        "    quantile_25 = np.percentile(df[column].values, 25)\n",
        "    quantile_75 = np.percentile(df[column].values, 75)\n",
        "\n",
        "    IQR = quantile_75 - quantile_25\n",
        "    IQR_weight = IQR*weight\n",
        "\n",
        "    lowest = quantile_25 - IQR_weight\n",
        "    highest = quantile_75 + IQR_weight\n",
        "    \n",
        "    outlier_idx = df[column][(df[column] < lowest) | (df[column] > highest)].index\n",
        "    return outlier_idx"
      ],
      "metadata": {
        "id": "LiL2SPI33QwO"
      },
      "execution_count": 31,
      "outputs": []
    },
    {
      "cell_type": "code",
      "source": [
        "# 함수 사용해서 이상값 확인\n",
        "outlier_idx = get_outlier(df=boxdata, column='B열', weight=1.5)"
      ],
      "metadata": {
        "id": "wKS70y0r3-fg"
      },
      "execution_count": 32,
      "outputs": []
    },
    {
      "cell_type": "code",
      "source": [
        "outlier_idx"
      ],
      "metadata": {
        "colab": {
          "base_uri": "https://localhost:8080/"
        },
        "id": "TGtmhydL4HDU",
        "outputId": "02dd560c-68b4-4884-d0a0-dbd3dc27c4fe"
      },
      "execution_count": 33,
      "outputs": [
        {
          "output_type": "execute_result",
          "data": {
            "text/plain": [
              "Int64Index([], dtype='int64')"
            ]
          },
          "metadata": {},
          "execution_count": 33
        }
      ]
    },
    {
      "cell_type": "code",
      "source": [
        "# 이상값 삭제\n",
        "boxdata.drop(outlier_idx, axis=0, inplace=True)"
      ],
      "metadata": {
        "id": "6HRZo1b44IV7"
      },
      "execution_count": 34,
      "outputs": []
    },
    {
      "cell_type": "code",
      "source": [
        "boxdata.shape"
      ],
      "metadata": {
        "colab": {
          "base_uri": "https://localhost:8080/"
        },
        "id": "e-hSdK_84Svm",
        "outputId": "2e05f317-4a16-40eb-bad6-afd142cdd3b4"
      },
      "execution_count": 35,
      "outputs": [
        {
          "output_type": "execute_result",
          "data": {
            "text/plain": [
              "(100, 3)"
            ]
          },
          "metadata": {},
          "execution_count": 35
        }
      ]
    },
    {
      "cell_type": "code",
      "source": [
        "# 박스 플롯을 이용한 이상값 확인\n",
        "sns.boxplot(data = boxdata)\n",
        "plt.show()"
      ],
      "metadata": {
        "colab": {
          "base_uri": "https://localhost:8080/",
          "height": 341
        },
        "id": "E5UczZxk4Tsp",
        "outputId": "8f993001-99b3-4e40-e1f3-b3fb4b71bd8b"
      },
      "execution_count": 36,
      "outputs": [
        {
          "output_type": "stream",
          "name": "stderr",
          "text": [
            "/usr/local/lib/python3.7/dist-packages/matplotlib/backends/backend_agg.py:214: RuntimeWarning: Glyph 50676 missing from current font.\n",
            "  font.set_text(s, 0.0, flags=flags)\n",
            "/usr/local/lib/python3.7/dist-packages/matplotlib/backends/backend_agg.py:183: RuntimeWarning: Glyph 50676 missing from current font.\n",
            "  font.set_text(s, 0, flags=flags)\n"
          ]
        },
        {
          "output_type": "display_data",
          "data": {
            "text/plain": [
              "<Figure size 432x288 with 1 Axes>"
            ],
            "image/png": "[encoded data removed]"
          },
          "metadata": {}
        }
      ]
    },
    {
      "cell_type": "code",
      "source": [
        "# 함수 사용해서 이상값 확인\n",
        "outlier_idx = get_outlier(df=boxdata, column='A열', weight=1.5)\n",
        "\n",
        "outlier_idx\n",
        "\n",
        "# 이상값 삭제\n",
        "boxdata.drop(outlier_idx, axis=0, inplace=True)\n",
        "\n",
        "boxdata.shape\n",
        "\n",
        "# 박스 플롯을 이용한 이상값 확인\n",
        "sns.boxplot(data = boxdata)\n",
        "plt.show()"
      ],
      "metadata": {
        "colab": {
          "base_uri": "https://localhost:8080/",
          "height": 341
        },
        "id": "mSJKW1ep4ZmN",
        "outputId": "b286ec34-1be1-412e-8686-02bff2cd4c56"
      },
      "execution_count": 38,
      "outputs": [
        {
          "output_type": "stream",
          "name": "stderr",
          "text": [
            "/usr/local/lib/python3.7/dist-packages/matplotlib/backends/backend_agg.py:214: RuntimeWarning: Glyph 50676 missing from current font.\n",
            "  font.set_text(s, 0.0, flags=flags)\n",
            "/usr/local/lib/python3.7/dist-packages/matplotlib/backends/backend_agg.py:183: RuntimeWarning: Glyph 50676 missing from current font.\n",
            "  font.set_text(s, 0, flags=flags)\n"
          ]
        },
        {
          "output_type": "display_data",
          "data": {
            "text/plain": [
              "<Figure size 432x288 with 1 Axes>"
            ],
            "image/png": "[encoded data removed]"
          },
          "metadata": {}
        }
      ]
    },
    {
      "cell_type": "code",
      "source": [
        "boxdata.shape"
      ],
      "metadata": {
        "colab": {
          "base_uri": "https://localhost:8080/"
        },
        "id": "IBRLtbb_4xfD",
        "outputId": "12f9ed3e-b0c8-434f-b68f-45684405a7f2"
      },
      "execution_count": 39,
      "outputs": [
        {
          "output_type": "execute_result",
          "data": {
            "text/plain": [
              "(96, 3)"
            ]
          },
          "metadata": {},
          "execution_count": 39
        }
      ]
    },
    {
      "cell_type": "code",
      "source": [
        ""
      ],
      "metadata": {
        "id": "LawhA5ca41LW"
      },
      "execution_count": null,
      "outputs": []
    }
  ]
}