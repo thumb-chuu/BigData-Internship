{
  "nbformat": 4,
  "nbformat_minor": 0,
  "metadata": {
    "colab": {
      "name": "엄지수_실습(7).ipynb",
      "provenance": [],
      "collapsed_sections": [],
      "authorship_tag": "ABX9TyNu8kTf1LJpo+hSXHfI5/yd",
      "include_colab_link": true
    },
    "kernelspec": {
      "name": "python3",
      "display_name": "Python 3"
    },
    "language_info": {
      "name": "python"
    }
  },
  "cells": [
    {
      "cell_type": "markdown",
      "metadata": {
        "id": "view-in-github",
        "colab_type": "text"
      },
      "source": [
        "<a href=\"https://colab.research.google.com/github/thumb-chuu/BigData-Internship/blob/main/%EC%97%84%EC%A7%80%EC%88%98_%EC%8B%A4%EC%8A%B5(7).ipynb\" target=\"_parent\"><img src=\"https://colab.research.google.com/assets/colab-badge.svg\" alt=\"Open In Colab\"/></a>"
      ]
    },
    {
      "cell_type": "markdown",
      "source": [
        "# ◆ 불균형 데이터 처리\n",
        "### 1. 필요 라이브러리 import\n",
        "#### - imbalanced-learn 패키지\n",
        "#### - imbalanced data 문제를 해결하기 위한 다양한 샘플링 방법을 구현한 파이썬 패키지\n",
        "#### - 설치 방법 : jupyter notebook에서 '!pip install imbalanced-learn' 혹은 '!pip install imbalanced'"
      ],
      "metadata": {
        "id": "jRUhYKAgSZfz"
      }
    },
    {
      "cell_type": "code",
      "execution_count": 1,
      "metadata": {
        "id": "0LQHC2cBRImF"
      },
      "outputs": [],
      "source": [
        "import warnings\n",
        "warnings.simplefilter(action='ignore', category=FutureWarning)          # FutureWarning 제거\n",
        "import numpy as np\n",
        "import pandas as pd\n",
        "%matplotlib inline\n",
        "from matplotlib import pyplot as plt\n",
        "import seaborn as sns\n",
        "from sklearn.datasets import make_classification                        # 데이터셋 생성 패키지\n",
        "\n",
        "# 불균형 데이터 처리-언더 샘플링\n",
        "from imblearn.under_sampling import RandomUnderSampler\n",
        "from imblearn.under_sampling import TomekLinks\n",
        "from imblearn.under_sampling import OneSidedSelection\n",
        "\n",
        "# 불균형 데이터 처리-오버 샘플링\n",
        "from imblearn.over_sampling import RandomOverSampler\n",
        "from imblearn.over_sampling import SMOTE\n",
        "from imblearn.over_sampling import ADASYN\n",
        "from imblearn.over_sampling import BorderlineSMOTE\n",
        "\n",
        "# 데이터 검증\n",
        "from sklearn.ensemble import RandomForestClassifier                     # 랜덤 포레스트\n",
        "from sklearn.model_selection import RepeatedStratifiedKFold             # Cross-Validation\n",
        "from sklearn.model_selection import cross_validate                      # Cross-Validation"
      ]
    },
    {
      "cell_type": "code",
      "source": [
        "# os에 따른 Font 깨짐 제거를 위해 Font 지정\n",
        "import os\n",
        "if os.name == 'nt' :                    # Windows OS\n",
        "    font_family = \"Malgun Gothic\"\n",
        "else:                                   # MAC OS\n",
        "    font_family = \"AppleGothic\"\n",
        "\n",
        "# - 값이 깨지는 문제 해결을 위해 파라미터값 설정\n",
        "sns.set(font=font_family, rc={\"axes.unicode_minus\" : False})\n",
        "\n",
        "# 불균형 데이터에 처리에 따른 랜덤포레스트 결과 확인 함수 생성\n",
        "def Randomforest_Result(x, y, title):\n",
        "    rf = RandomForestClassifier(criterion='entropy')\n",
        "    cv_rf = RepeatedStratifiedKFold(n_splits=10, n_repeats=3, random_state=1)\n",
        "#   cv_rf = RepeatedStratifiedKFold(n_splits=3, n_repeats=1, random_state=1)\n",
        "    scores = cross_validate(rf, x, y, scoring='f1', cv=cv_rf, n_jobs=1)\n",
        "    print(title, ':', '3-Fold CV f1 score: %.4f' % np.mean(scores['test_score']))\n",
        "\n",
        "    return"
      ],
      "metadata": {
        "id": "2LoJ_5zzUfGH"
      },
      "execution_count": 3,
      "outputs": []
    },
    {
      "cell_type": "markdown",
      "source": [
        "### 2. Under Sampling\n",
        "### 1) 데이터셋 준비 및 확인"
      ],
      "metadata": {
        "id": "MgG0uDFFV3JY"
      }
    },
    {
      "cell_type": "code",
      "source": [
        " # 데이터셋 준비\n",
        " X_data, y_class = make_classification(n_classes=2, class_sep=2, n_samples=10000, n_features=20, weights=[0.9, 0.1], flip_y=0, n_clusters_per_class=1, random_state=10)\n",
        "\n",
        " print(X_data.shape)\n",
        " y_class.shape"
      ],
      "metadata": {
        "colab": {
          "base_uri": "https://localhost:8080/"
        },
        "id": "gEovFnBTVr6n",
        "outputId": "43240741-f66a-43ab-bd30-116c46fa2d08"
      },
      "execution_count": 4,
      "outputs": [
        {
          "output_type": "stream",
          "name": "stdout",
          "text": [
            "(10000, 20)\n"
          ]
        },
        {
          "output_type": "execute_result",
          "data": {
            "text/plain": [
              "(10000,)"
            ]
          },
          "metadata": {},
          "execution_count": 4
        }
      ]
    },
    {
      "cell_type": "code",
      "source": [
        "# count_and_plot 그리기 함수\n",
        "from collections import Counter\n",
        "from matplotlib import pyplot\n",
        "def count_and_plot(y):\n",
        "    counter = Counter(y)\n",
        "    for k,v in counter.items():\n",
        "        print('Class=%d, n=%d (%.3f%%)' % (k, v, v / len(y) * 100))\n",
        "        pyplot.bar(counter.keys(), counter.values())\n",
        "        pyplot.show()"
      ],
      "metadata": {
        "id": "jA9h-8UnjFrF"
      },
      "execution_count": 9,
      "outputs": []
    },
    {
      "cell_type": "code",
      "source": [
        "# 데이터셋 가시화\n",
        "plt.figure(figsize=(5, 3))\n",
        "count_and_plot(y_class)"
      ],
      "metadata": {
        "colab": {
          "base_uri": "https://localhost:8080/",
          "height": 518
        },
        "id": "sUKdvOBqjNw-",
        "outputId": "aee5f3cc-0b5c-4e17-a076-6bcfdf0337b8"
      },
      "execution_count": 10,
      "outputs": [
        {
          "output_type": "stream",
          "name": "stderr",
          "text": [
            "findfont: Font family ['AppleGothic'] not found. Falling back to DejaVu Sans.\n"
          ]
        },
        {
          "output_type": "stream",
          "name": "stdout",
          "text": [
            "Class=0, n=9000 (90.000%)\n"
          ]
        },
        {
          "output_type": "display_data",
          "data": {
            "text/plain": [
              "<Figure size 360x216 with 1 Axes>"
            ],
            "image/png": "[encoded data removed]"
          },
          "metadata": {}
        },
        {
          "output_type": "stream",
          "name": "stdout",
          "text": [
            "Class=1, n=1000 (10.000%)\n"
          ]
        },
        {
          "output_type": "display_data",
          "data": {
            "text/plain": [
              "<Figure size 432x288 with 1 Axes>"
            ],
            "image/png": "[encoded data removed]"
          },
          "metadata": {}
        }
      ]
    },
    {
      "cell_type": "code",
      "source": [
        "Randomforest_Result(X_data, y_class, \"언더 샘플링_원본 데이터 결과\")"
      ],
      "metadata": {
        "colab": {
          "base_uri": "https://localhost:8080/"
        },
        "id": "WvGxLQlolDzY",
        "outputId": "fbcdddc5-74ac-4c00-a691-727c9d2c3ebc"
      },
      "execution_count": 11,
      "outputs": [
        {
          "output_type": "stream",
          "name": "stdout",
          "text": [
            "언더 샘플링_원본 데이터 결과 : 3-Fold CV f1 score: 0.9882\n"
          ]
        }
      ]
    },
    {
      "cell_type": "markdown",
      "source": [
        "### 2) Random Under Sampling"
      ],
      "metadata": {
        "id": "lNZ8Cd6CqwCA"
      }
    },
    {
      "cell_type": "code",
      "source": [
        "# sampling_strategy\n",
        "# - 'majority' (소수 집단과 동일하게 샘플링)\n",
        "# - 0과 1 사이의 숫자를 지정(소수 집단 데이터수 / 다수 집단 데이터수)하여 샘플링\n",
        "under_random = RandomUnderSampler(sampling_strategy = 'majority')\n",
        "X_random, y_random = under_random.fit_resample(X_data, y_class)"
      ],
      "metadata": {
        "id": "1Q2n1jJ7lNh6"
      },
      "execution_count": 12,
      "outputs": []
    },
    {
      "cell_type": "code",
      "source": [
        "plt.figure(figsize=(5, 3))\n",
        "count_and_plot(y_random)"
      ],
      "metadata": {
        "colab": {
          "base_uri": "https://localhost:8080/",
          "height": 500
        },
        "id": "KXVOeoVHrMAx",
        "outputId": "7bed1b05-75a8-4a95-9e78-90af57b139ed"
      },
      "execution_count": 13,
      "outputs": [
        {
          "output_type": "stream",
          "name": "stdout",
          "text": [
            "Class=0, n=1000 (50.000%)\n"
          ]
        },
        {
          "output_type": "display_data",
          "data": {
            "text/plain": [
              "<Figure size 360x216 with 1 Axes>"
            ],
            "image/png": "[encoded data removed]"
          },
          "metadata": {}
        },
        {
          "output_type": "stream",
          "name": "stdout",
          "text": [
            "Class=1, n=1000 (50.000%)\n"
          ]
        },
        {
          "output_type": "display_data",
          "data": {
            "text/plain": [
              "<Figure size 432x288 with 1 Axes>"
            ],
            "image/png": "[encoded data removed]"
          },
          "metadata": {}
        }
      ]
    },
    {
      "cell_type": "code",
      "source": [
        "Randomforest_Result(X_random, y_random, \"언더 샘플링_램던언더 샘플링_데이터 결과\")"
      ],
      "metadata": {
        "colab": {
          "base_uri": "https://localhost:8080/"
        },
        "id": "dh7fclwCrSPm",
        "outputId": "51b60d3d-ce54-410c-e0c7-768db143f3c7"
      },
      "execution_count": 14,
      "outputs": [
        {
          "output_type": "stream",
          "name": "stdout",
          "text": [
            "언더 샘플링_램던언더 샘플링_데이터 결과 : 3-Fold CV f1 score: 0.9957\n"
          ]
        }
      ]
    },
    {
      "cell_type": "code",
      "source": [
        "# sampling_strategy\n",
        "# 0과 1 사이의 숫자를 지정(소수 집단 데이터수 / 다수 집단 데이터수)하여 샘플링\n",
        "under_random_05 = RandomUnderSampler(sampling_strategy = 0.5)\n",
        "X_random_05, y_random_05 = under_random_05.fit_resample(X_data, y_class)"
      ],
      "metadata": {
        "id": "MlK2jpGcrany"
      },
      "execution_count": 15,
      "outputs": []
    },
    {
      "cell_type": "code",
      "source": [
        "plt.figure(figsize=(5, 3))\n",
        "count_and_plot(y_random_05)"
      ],
      "metadata": {
        "colab": {
          "base_uri": "https://localhost:8080/",
          "height": 500
        },
        "id": "PIZvDWIgrxvF",
        "outputId": "7a0dedf4-27bb-4974-f1b2-3887acc374b9"
      },
      "execution_count": 16,
      "outputs": [
        {
          "output_type": "stream",
          "name": "stdout",
          "text": [
            "Class=0, n=2000 (66.667%)\n"
          ]
        },
        {
          "output_type": "display_data",
          "data": {
            "text/plain": [
              "<Figure size 360x216 with 1 Axes>"
            ],
            "image/png": "[encoded data removed]"
          },
          "metadata": {}
        },
        {
          "output_type": "stream",
          "name": "stdout",
          "text": [
            "Class=1, n=1000 (33.333%)\n"
          ]
        },
        {
          "output_type": "display_data",
          "data": {
            "text/plain": [
              "<Figure size 432x288 with 1 Axes>"
            ],
            "image/png": "[encoded data removed]"
          },
          "metadata": {}
        }
      ]
    },
    {
      "cell_type": "code",
      "source": [
        "Randomforest_Result(X_random_05, y_random_05, \"언더 샘플링_랜덤언더 샘플링_비율:0.5_데이터 결과\")"
      ],
      "metadata": {
        "colab": {
          "base_uri": "https://localhost:8080/"
        },
        "id": "r_amczXyr4kZ",
        "outputId": "f462fcb0-b0fa-47a0-ce4d-c821f21fe3c8"
      },
      "execution_count": 17,
      "outputs": [
        {
          "output_type": "stream",
          "name": "stdout",
          "text": [
            "언더 샘플링_랜덤언더 샘플링_비율:0.5_데이터 결과 : 3-Fold CV f1 score: 0.9926\n"
          ]
        }
      ]
    },
    {
      "cell_type": "markdown",
      "source": [
        "### 3) TomekLinks"
      ],
      "metadata": {
        "id": "BDnWppWTsP6o"
      }
    },
    {
      "cell_type": "code",
      "source": [
        "# 토멕링크\n",
        "tl = TomekLinks()\n",
        "X_tl, y_tl = tl.fit_resample(X_data, y_class)"
      ],
      "metadata": {
        "id": "ZMGBcD_wsNYI"
      },
      "execution_count": 18,
      "outputs": []
    },
    {
      "cell_type": "code",
      "source": [
        "plt.figure(figsize=(5, 3))\n",
        "count_and_plot(y_tl)"
      ],
      "metadata": {
        "colab": {
          "base_uri": "https://localhost:8080/",
          "height": 500
        },
        "id": "EXcHYOAFscnW",
        "outputId": "9240d245-b3c6-491b-c891-981a9274ceb8"
      },
      "execution_count": 20,
      "outputs": [
        {
          "output_type": "stream",
          "name": "stdout",
          "text": [
            "Class=0, n=8993 (89.993%)\n"
          ]
        },
        {
          "output_type": "display_data",
          "data": {
            "text/plain": [
              "<Figure size 360x216 with 1 Axes>"
            ],
            "image/png": "[encoded data removed]"
          },
          "metadata": {}
        },
        {
          "output_type": "stream",
          "name": "stdout",
          "text": [
            "Class=1, n=1000 (10.007%)\n"
          ]
        },
        {
          "output_type": "display_data",
          "data": {
            "text/plain": [
              "<Figure size 432x288 with 1 Axes>"
            ],
            "image/png": "[encoded data removed]"
          },
          "metadata": {}
        }
      ]
    },
    {
      "cell_type": "code",
      "source": [
        "Randomforest_Result(X_tl, y_tl, \"언더 샘플링_토멕링크_데이터 결과\")"
      ],
      "metadata": {
        "colab": {
          "base_uri": "https://localhost:8080/"
        },
        "id": "EnjYKg6osgqT",
        "outputId": "c2df78e0-db2e-47e4-fbb6-093936731fa9"
      },
      "execution_count": 21,
      "outputs": [
        {
          "output_type": "stream",
          "name": "stdout",
          "text": [
            "언더 샘플링_토멕링크_데이터 결과 : 3-Fold CV f1 score: 0.9894\n"
          ]
        }
      ]
    },
    {
      "cell_type": "markdown",
      "source": [
        "### 4) OSS(OneSidedSelection)"
      ],
      "metadata": {
        "id": "oa8g1CT6szg6"
      }
    },
    {
      "cell_type": "code",
      "source": [
        "# OSS(OneSidedSelection)\n",
        "oss = OneSidedSelection(random_state=42)\n",
        "X_oss, y_oss = oss.fit_resample(X_data, y_class)"
      ],
      "metadata": {
        "id": "hxAooOtAspiZ"
      },
      "execution_count": 22,
      "outputs": []
    },
    {
      "cell_type": "code",
      "source": [
        "plt.figure(figsize=(5, 3))\n",
        "count_and_plot(y_oss)"
      ],
      "metadata": {
        "colab": {
          "base_uri": "https://localhost:8080/",
          "height": 506
        },
        "id": "hWUtapS5tGKD",
        "outputId": "28301e08-9246-484a-8174-34b1027a46a8"
      },
      "execution_count": 23,
      "outputs": [
        {
          "output_type": "stream",
          "name": "stdout",
          "text": [
            "Class=0, n=7666 (88.461%)\n"
          ]
        },
        {
          "output_type": "display_data",
          "data": {
            "text/plain": [
              "<Figure size 360x216 with 1 Axes>"
            ],
            "image/png": "[encoded data removed]"
          },
          "metadata": {}
        },
        {
          "output_type": "stream",
          "name": "stdout",
          "text": [
            "Class=1, n=1000 (11.539%)\n"
          ]
        },
        {
          "output_type": "display_data",
          "data": {
            "text/plain": [
              "<Figure size 432x288 with 1 Axes>"
            ],
            "image/png": "[encoded data removed]"
          },
          "metadata": {}
        }
      ]
    },
    {
      "cell_type": "code",
      "source": [
        "Randomforest_Result(X_oss, y_oss, \"언더 샘플링_OSS_데이터 결과\")"
      ],
      "metadata": {
        "colab": {
          "base_uri": "https://localhost:8080/"
        },
        "id": "tJgWjBzFtN5g",
        "outputId": "0ed99595-5d96-43ad-e091-6101678ce756"
      },
      "execution_count": 24,
      "outputs": [
        {
          "output_type": "stream",
          "name": "stdout",
          "text": [
            "언더 샘플링_OSS_데이터 결과 : 3-Fold CV f1 score: 0.9891\n"
          ]
        }
      ]
    },
    {
      "cell_type": "markdown",
      "source": [
        "### 3. Oversampling\n",
        "### 1) 데이터셋 준비 및 확인"
      ],
      "metadata": {
        "id": "41LndO4utVEJ"
      }
    },
    {
      "cell_type": "code",
      "source": [
        "# 데이터셋 준비 및 확인\n",
        "X_data, y_class = make_classification(n_classes=2, class_sep=2, n_samples=10000, n_features=20, weights=[0.9, 0.1], flip_y=0, n_clusters_per_class=1, random_state=10)\n",
        "\n",
        "print(X_data.shape)\n",
        "y_class.shape\n",
        "\n",
        "plt.figure(figsize=(5, 4))\n",
        "count_and_plot(y_class)"
      ],
      "metadata": {
        "colab": {
          "base_uri": "https://localhost:8080/",
          "height": 573
        },
        "id": "MtGEAabStT_8",
        "outputId": "655fef49-1bdd-49f1-fc0f-67cd7e58d4d3"
      },
      "execution_count": 25,
      "outputs": [
        {
          "output_type": "stream",
          "name": "stdout",
          "text": [
            "(10000, 20)\n",
            "Class=0, n=9000 (90.000%)\n"
          ]
        },
        {
          "output_type": "display_data",
          "data": {
            "text/plain": [
              "<Figure size 360x288 with 1 Axes>"
            ],
            "image/png": "[encoded data removed]"
          },
          "metadata": {}
        },
        {
          "output_type": "stream",
          "name": "stdout",
          "text": [
            "Class=1, n=1000 (10.000%)\n"
          ]
        },
        {
          "output_type": "display_data",
          "data": {
            "text/plain": [
              "<Figure size 432x288 with 1 Axes>"
            ],
            "image/png": "[encoded data removed]"
          },
          "metadata": {}
        }
      ]
    },
    {
      "cell_type": "code",
      "source": [
        "Randomforest_Result(X_data, y_class, \"오버 샘플링_원본 데이터 결과\")"
      ],
      "metadata": {
        "colab": {
          "base_uri": "https://localhost:8080/"
        },
        "id": "VDZn-2hQt43G",
        "outputId": "a2457d8e-dd92-46b7-c42f-67947ee3b4cc"
      },
      "execution_count": 26,
      "outputs": [
        {
          "output_type": "stream",
          "name": "stdout",
          "text": [
            "오버 샘플링_원본 데이터 결과 : 3-Fold CV f1 score: 0.9887\n"
          ]
        }
      ]
    },
    {
      "cell_type": "markdown",
      "source": [
        "### 2) Random over sampling"
      ],
      "metadata": {
        "id": "exhaA61NvUp3"
      }
    },
    {
      "cell_type": "code",
      "source": [
        "# 랜덤오버샘플링\n",
        "ros = RandomOverSampler(random_state=42)\n",
        "X_ros, y_ros = ros.fit_resample(X_data, y_class)"
      ],
      "metadata": {
        "id": "oEJdI-hzuAQS"
      },
      "execution_count": 28,
      "outputs": []
    },
    {
      "cell_type": "code",
      "source": [
        "plt.figure(figsize=(5, 3))\n",
        "count_and_plot(y_ros)"
      ],
      "metadata": {
        "colab": {
          "base_uri": "https://localhost:8080/",
          "height": 500
        },
        "id": "8AWhKUpTvh0I",
        "outputId": "a0c9fdcc-5a35-41c5-dc88-02d05c30c008"
      },
      "execution_count": 29,
      "outputs": [
        {
          "output_type": "stream",
          "name": "stdout",
          "text": [
            "Class=0, n=9000 (50.000%)\n"
          ]
        },
        {
          "output_type": "display_data",
          "data": {
            "text/plain": [
              "<Figure size 360x216 with 1 Axes>"
            ],
            "image/png": "[encoded data removed]"
          },
          "metadata": {}
        },
        {
          "output_type": "stream",
          "name": "stdout",
          "text": [
            "Class=1, n=9000 (50.000%)\n"
          ]
        },
        {
          "output_type": "display_data",
          "data": {
            "text/plain": [
              "<Figure size 432x288 with 1 Axes>"
            ],
            "image/png": "[encoded data removed]"
          },
          "metadata": {}
        }
      ]
    },
    {
      "cell_type": "code",
      "source": [
        "Randomforest_Result(X_data, y_class, \"오버 샘플링_랜덤오버샘플링 결과\")"
      ],
      "metadata": {
        "colab": {
          "base_uri": "https://localhost:8080/"
        },
        "id": "_hVjossdvyC9",
        "outputId": "4178289b-4fcf-4bb3-b498-888e2ad46e01"
      },
      "execution_count": 30,
      "outputs": [
        {
          "output_type": "stream",
          "name": "stdout",
          "text": [
            "오버 샘플링_랜덤오버샘플링 결과 : 3-Fold CV f1 score: 0.9889\n"
          ]
        }
      ]
    },
    {
      "cell_type": "markdown",
      "source": [
        "### 3) SMOTE"
      ],
      "metadata": {
        "id": "6aqXeCEEv7A_"
      }
    },
    {
      "cell_type": "code",
      "source": [
        "# SMOTE\n",
        "smote = SMOTE()\n",
        "X_sm, y_sm = smote.fit_resample(X_data, y_class)"
      ],
      "metadata": {
        "id": "eP-LFzoiv5a6"
      },
      "execution_count": 31,
      "outputs": []
    },
    {
      "cell_type": "code",
      "source": [
        "plt.figure(figsize=(5, 3))\n",
        "count_and_plot(y_sm)"
      ],
      "metadata": {
        "colab": {
          "base_uri": "https://localhost:8080/",
          "height": 500
        },
        "id": "NHuaZi0rwhcp",
        "outputId": "5f8587ce-c6ff-428a-c5e6-c0bc47f146a2"
      },
      "execution_count": 32,
      "outputs": [
        {
          "output_type": "stream",
          "name": "stdout",
          "text": [
            "Class=0, n=9000 (50.000%)\n"
          ]
        },
        {
          "output_type": "display_data",
          "data": {
            "text/plain": [
              "<Figure size 360x216 with 1 Axes>"
            ],
            "image/png": "[encoded data removed]"
          },
          "metadata": {}
        },
        {
          "output_type": "stream",
          "name": "stdout",
          "text": [
            "Class=1, n=9000 (50.000%)\n"
          ]
        },
        {
          "output_type": "display_data",
          "data": {
            "text/plain": [
              "<Figure size 432x288 with 1 Axes>"
            ],
            "image/png": "[encoded data removed]"
          },
          "metadata": {}
        }
      ]
    },
    {
      "cell_type": "code",
      "source": [
        "Randomforest_Result(X_sm, y_sm, \"오버 샘플링_SMOTE 결과\")"
      ],
      "metadata": {
        "colab": {
          "base_uri": "https://localhost:8080/"
        },
        "id": "oYfm7ESmwmRJ",
        "outputId": "370e078a-ee95-4043-8ece-525cff6f7230"
      },
      "execution_count": 33,
      "outputs": [
        {
          "output_type": "stream",
          "name": "stdout",
          "text": [
            "오버 샘플링_SMOTE 결과 : 3-Fold CV f1 score: 0.9984\n"
          ]
        }
      ]
    },
    {
      "cell_type": "markdown",
      "source": [
        "### 4) ADASYN"
      ],
      "metadata": {
        "id": "qrWOR4pqw4V2"
      }
    },
    {
      "cell_type": "code",
      "source": [
        "# ADASYN\n",
        "ada = ADASYN(random_state=42)\n",
        "X_ada, y_ada = ada.fit_resample(X_data, y_class)"
      ],
      "metadata": {
        "id": "52mcLqNMwtcj"
      },
      "execution_count": 34,
      "outputs": []
    },
    {
      "cell_type": "code",
      "source": [
        "plt.figure(figsize=(5, 3))\n",
        "count_and_plot(y_ada)"
      ],
      "metadata": {
        "colab": {
          "base_uri": "https://localhost:8080/",
          "height": 500
        },
        "id": "XtWWbANNxecu",
        "outputId": "ef5d7ae1-5cea-4da8-c1ed-e6f9fa290ec7"
      },
      "execution_count": 35,
      "outputs": [
        {
          "output_type": "stream",
          "name": "stdout",
          "text": [
            "Class=0, n=9000 (49.972%)\n"
          ]
        },
        {
          "output_type": "display_data",
          "data": {
            "text/plain": [
              "<Figure size 360x216 with 1 Axes>"
            ],
            "image/png": "[encoded data removed]"
          },
          "metadata": {}
        },
        {
          "output_type": "stream",
          "name": "stdout",
          "text": [
            "Class=1, n=9010 (50.028%)\n"
          ]
        },
        {
          "output_type": "display_data",
          "data": {
            "text/plain": [
              "<Figure size 432x288 with 1 Axes>"
            ],
            "image/png": "[encoded data removed]"
          },
          "metadata": {}
        }
      ]
    },
    {
      "cell_type": "code",
      "source": [
        "Randomforest_Result(X_ada, y_ada, \"오버 샘플링_ADASYN 결과\")"
      ],
      "metadata": {
        "colab": {
          "base_uri": "https://localhost:8080/"
        },
        "id": "LnJtXLV-xjoH",
        "outputId": "340dd541-1282-4a55-a523-4e9d6dcd6cbe"
      },
      "execution_count": 36,
      "outputs": [
        {
          "output_type": "stream",
          "name": "stdout",
          "text": [
            "오버 샘플링_ADASYN 결과 : 3-Fold CV f1 score: 0.9987\n"
          ]
        }
      ]
    },
    {
      "cell_type": "markdown",
      "source": [
        "### 5) Boderline SMOTE"
      ],
      "metadata": {
        "id": "_ZSuwi_tx1a9"
      }
    },
    {
      "cell_type": "code",
      "source": [
        "# Boderline SMOTE\n",
        "bor_sm = BorderlineSMOTE(random_state=42)\n",
        "X_bor_sm, y_bor_sm = bor_sm.fit_resample(X_data, y_class)"
      ],
      "metadata": {
        "id": "WIImOnRix0Hb"
      },
      "execution_count": 37,
      "outputs": []
    },
    {
      "cell_type": "code",
      "source": [
        "plt.figure(figsize=(5, 3))\n",
        "count_and_plot(y_bor_sm)"
      ],
      "metadata": {
        "colab": {
          "base_uri": "https://localhost:8080/",
          "height": 500
        },
        "id": "rCMQDzptyikK",
        "outputId": "b8993c20-0265-4153-8a7b-48ad2f6ecfee"
      },
      "execution_count": 38,
      "outputs": [
        {
          "output_type": "stream",
          "name": "stdout",
          "text": [
            "Class=0, n=9000 (50.000%)\n"
          ]
        },
        {
          "output_type": "display_data",
          "data": {
            "text/plain": [
              "<Figure size 360x216 with 1 Axes>"
            ],
            "image/png": "[encoded data removed]"
          },
          "metadata": {}
        },
        {
          "output_type": "stream",
          "name": "stdout",
          "text": [
            "Class=1, n=9000 (50.000%)\n"
          ]
        },
        {
          "output_type": "display_data",
          "data": {
            "text/plain": [
              "<Figure size 432x288 with 1 Axes>"
            ],
            "image/png": "[encoded data removed]"
          },
          "metadata": {}
        }
      ]
    },
    {
      "cell_type": "code",
      "source": [
        "Randomforest_Result(X_bor_sm, y_bor_sm, \"오버 샘플링_Boderline SMOTE 결과\")"
      ],
      "metadata": {
        "colab": {
          "base_uri": "https://localhost:8080/"
        },
        "id": "JjluqUGMzq2T",
        "outputId": "66d52d7c-19f6-40f9-8be2-f53bdaa62ef4"
      },
      "execution_count": 39,
      "outputs": [
        {
          "output_type": "stream",
          "name": "stdout",
          "text": [
            "오버 샘플링_Boderline SMOTE 결과 : 3-Fold CV f1 score: 0.9987\n"
          ]
        }
      ]
    },
    {
      "cell_type": "code",
      "source": [
        ""
      ],
      "metadata": {
        "id": "Ddr6wnwTz0ju"
      },
      "execution_count": null,
      "outputs": []
    }
  ]
}